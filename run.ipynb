{
 "cells": [
  {
   "cell_type": "code",
   "execution_count": 1,
   "metadata": {},
   "outputs": [],
   "source": [
    "from red.scraper import Scraper\n",
    "from red.indicator import Indicator\n",
    "from red.red import RED"
   ]
  },
  {
   "cell_type": "code",
   "execution_count": 2,
   "metadata": {},
   "outputs": [
    {
     "output_type": "stream",
     "name": "stdout",
     "text": [
      "\"userDB.csv\" 파일을 찾을 수 없습니다. 먼저 userDB를 생성하겠습니다.\n"
     ]
    },
    {
     "output_type": "display_data",
     "data": {
      "text/plain": "BoundedIntText(value=300, continuous_update=True, description='투자 금액(만 원)', max=10000, min=1, style=Descriptio…",
      "application/vnd.jupyter.widget-view+json": {
       "version_major": 2,
       "version_minor": 0,
       "model_id": "0e9982036c684c329e0264b41085f3bc"
      }
     },
     "metadata": {}
    },
    {
     "output_type": "display_data",
     "data": {
      "text/plain": "Dropdown(description='투자 기간 ', options=('1주 ~ 1개월', '1개월 ~ 6개월', '6개월 ~ 1년', '1년 이상'), style=DescriptionStyle(…",
      "application/vnd.jupyter.widget-view+json": {
       "version_major": 2,
       "version_minor": 0,
       "model_id": "cecd639ac5c645eaa33334f70a6cedb6"
      }
     },
     "metadata": {}
    },
    {
     "output_type": "display_data",
     "data": {
      "text/plain": "BoundedIntText(value=20, description='나이 (만)', min=10, style=DescriptionStyle(description_width='initial'))",
      "application/vnd.jupyter.widget-view+json": {
       "version_major": 2,
       "version_minor": 0,
       "model_id": "d206d734984b4aefa342b1f3e8ea5f63"
      }
     },
     "metadata": {}
    },
    {
     "output_type": "display_data",
     "data": {
      "text/plain": "Dropdown(description='성별 ', options=('남', '여'), style=DescriptionStyle(description_width='initial'), value='남'…",
      "application/vnd.jupyter.widget-view+json": {
       "version_major": 2,
       "version_minor": 0,
       "model_id": "da62d9779ee74e77920bb731956bae26"
      }
     },
     "metadata": {}
    },
    {
     "output_type": "display_data",
     "data": {
      "text/plain": "FloatText(value=100.0, continuous_update=True, description='월 정기 수입(만 원)', style=DescriptionStyle(description_…",
      "application/vnd.jupyter.widget-view+json": {
       "version_major": 2,
       "version_minor": 0,
       "model_id": "484014edaed64bdb93bd85a65d9af4a1"
      }
     },
     "metadata": {}
    },
    {
     "output_type": "display_data",
     "data": {
      "text/plain": "Dropdown(description='관심산업분야', layout=Layout(width='max-content'), options=('건설', '게임', '금융', '레져/엔터', '바이오', …",
      "application/vnd.jupyter.widget-view+json": {
       "version_major": 2,
       "version_minor": 0,
       "model_id": "5dd631baf2264cbb8279d1cb32163578"
      }
     },
     "metadata": {}
    },
    {
     "output_type": "display_data",
     "data": {
      "text/plain": "Dropdown(description='금융지식수준', layout=Layout(width='max-content'), options=('금융투자상품에 투자해 본 경험이 없음', '널리 알려진 금융…",
      "application/vnd.jupyter.widget-view+json": {
       "version_major": 2,
       "version_minor": 0,
       "model_id": "212e5291da124efbb669a64d6ef5bfb1"
      }
     },
     "metadata": {}
    },
    {
     "output_type": "display_data",
     "data": {
      "text/plain": "Dropdown(description='위험추구성향', layout=Layout(width='max-content'), options=('예금 또는 적금 수준의 수익률을 기대 / 투자원금의 손실을 …",
      "application/vnd.jupyter.widget-view+json": {
       "version_major": 2,
       "version_minor": 0,
       "model_id": "1a6b54ab00104f8885a47ac9a7987810"
      }
     },
     "metadata": {}
    },
    {
     "output_type": "display_data",
     "data": {
      "text/plain": "Button(description='데이터 업데이트', style=ButtonStyle())",
      "application/vnd.jupyter.widget-view+json": {
       "version_major": 2,
       "version_minor": 0,
       "model_id": "ceb47d7114ac468d8f29157f687f9231"
      }
     },
     "metadata": {}
    },
    {
     "output_type": "display_data",
     "data": {
      "text/plain": "Button(description='투자 시작', style=ButtonStyle())",
      "application/vnd.jupyter.widget-view+json": {
       "version_major": 2,
       "version_minor": 0,
       "model_id": "2a45a4234cbb4fd694af8db56b080a95"
      }
     },
     "metadata": {}
    },
    {
     "output_type": "display_data",
     "data": {
      "text/plain": "Button(description='뒤로 가기', style=ButtonStyle())",
      "application/vnd.jupyter.widget-view+json": {
       "version_major": 2,
       "version_minor": 0,
       "model_id": "c7a9766352a449f5b62336282bedcbae"
      }
     },
     "metadata": {}
    },
    {
     "output_type": "stream",
     "name": "stdout",
     "text": [
      "데이터 업데이트를 하신 후, 입력하신 정보를 확인하시고 투자 시작을 눌러주세요.\n"
     ]
    }
   ],
   "source": [
    "RED().run()"
   ]
  },
  {
   "cell_type": "code",
   "execution_count": null,
   "metadata": {},
   "outputs": [],
   "source": []
  }
 ],
 "metadata": {
  "kernelspec": {
   "display_name": "Python 3",
   "language": "python",
   "name": "python3"
  },
  "language_info": {
   "codemirror_mode": {
    "name": "ipython",
    "version": 3
   },
   "file_extension": ".py",
   "mimetype": "text/x-python",
   "name": "python",
   "nbconvert_exporter": "python",
   "pygments_lexer": "ipython3",
   "version": "3.6.12-final"
  }
 },
 "nbformat": 4,
 "nbformat_minor": 2
}