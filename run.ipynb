{
 "cells": [
  {
   "cell_type": "code",
   "execution_count": 1,
   "metadata": {},
   "outputs": [],
   "source": [
    "from red.red import RED"
   ]
  },
  {
   "cell_type": "code",
   "execution_count": 2,
   "metadata": {},
   "outputs": [
    {
     "data": {
      "application/vnd.jupyter.widget-view+json": {
       "model_id": "ccefef77493e42949a7b5818991ca2a8",
       "version_major": 2,
       "version_minor": 0
      },
      "text/plain": [
       "BoundedIntText(value=300, continuous_update=True, description='투자 금액(만 원)', max=10000, min=1, style=Descriptio…"
      ]
     },
     "metadata": {},
     "output_type": "display_data"
    },
    {
     "data": {
      "application/vnd.jupyter.widget-view+json": {
       "model_id": "4f19c5e776434c60a4c19e41b69801b9",
       "version_major": 2,
       "version_minor": 0
      },
      "text/plain": [
       "Dropdown(description='투자 기간 ', options=('1주 ~ 1개월', '1개월 ~ 6개월', '6개월 ~ 1년', '1년 이상'), style=DescriptionStyle(…"
      ]
     },
     "metadata": {},
     "output_type": "display_data"
    },
    {
     "data": {
      "application/vnd.jupyter.widget-view+json": {
       "model_id": "102800cf786a40899838f09ef80013f2",
       "version_major": 2,
       "version_minor": 0
      },
      "text/plain": [
       "BoundedIntText(value=20, description='나이 (만)', min=10, style=DescriptionStyle(description_width='initial'))"
      ]
     },
     "metadata": {},
     "output_type": "display_data"
    },
    {
     "data": {
      "application/vnd.jupyter.widget-view+json": {
       "model_id": "e0a45fe9e21e4bdba48b981d4a6faaa9",
       "version_major": 2,
       "version_minor": 0
      },
      "text/plain": [
       "Dropdown(description='성별 ', options=('남', '여'), style=DescriptionStyle(description_width='initial'), value='남'…"
      ]
     },
     "metadata": {},
     "output_type": "display_data"
    },
    {
     "data": {
      "application/vnd.jupyter.widget-view+json": {
       "model_id": "5e69481032ff4c048c0c1fb7f848b3f1",
       "version_major": 2,
       "version_minor": 0
      },
      "text/plain": [
       "FloatText(value=100.0, continuous_update=True, description='월 정기 수입(만 원)', style=DescriptionStyle(description_…"
      ]
     },
     "metadata": {},
     "output_type": "display_data"
    },
    {
     "data": {
      "application/vnd.jupyter.widget-view+json": {
       "model_id": "9501b9c09dae4459839a2238b9a882ea",
       "version_major": 2,
       "version_minor": 0
      },
      "text/plain": [
       "Dropdown(description='관심산업분야', layout=Layout(width='max-content'), options=('건설', '게임', '금융', '레져/엔터', '바이오', …"
      ]
     },
     "metadata": {},
     "output_type": "display_data"
    },
    {
     "data": {
      "application/vnd.jupyter.widget-view+json": {
       "model_id": "748edf9ba80b46408ad9564d2e9b3695",
       "version_major": 2,
       "version_minor": 0
      },
      "text/plain": [
       "Dropdown(description='금융지식수준', layout=Layout(width='max-content'), options=('금융투자상품에 투자해 본 경험이 없음', '널리 알려진 금융…"
      ]
     },
     "metadata": {},
     "output_type": "display_data"
    },
    {
     "data": {
      "application/vnd.jupyter.widget-view+json": {
       "model_id": "ca148f92289644ffb143dba7b75ec130",
       "version_major": 2,
       "version_minor": 0
      },
      "text/plain": [
       "Dropdown(description='위험추구성향', layout=Layout(width='max-content'), options=('예금 또는 적금 수준의 수익률을 기대 / 투자원금의 손실을 …"
      ]
     },
     "metadata": {},
     "output_type": "display_data"
    },
    {
     "data": {
      "application/vnd.jupyter.widget-view+json": {
       "model_id": "d9eab1ff284e4a5fbb892d23d8320b03",
       "version_major": 2,
       "version_minor": 0
      },
      "text/plain": [
       "Button(description='데이터 업데이트', style=ButtonStyle())"
      ]
     },
     "metadata": {},
     "output_type": "display_data"
    },
    {
     "data": {
      "application/vnd.jupyter.widget-view+json": {
       "model_id": "081fea80387f47aeade442650f3c9146",
       "version_major": 2,
       "version_minor": 0
      },
      "text/plain": [
       "Button(description='투자 시작', style=ButtonStyle())"
      ]
     },
     "metadata": {},
     "output_type": "display_data"
    },
    {
     "data": {
      "application/vnd.jupyter.widget-view+json": {
       "model_id": "642fdb9ac0684076b57093f7b723b5b0",
       "version_major": 2,
       "version_minor": 0
      },
      "text/plain": [
       "Button(description='뒤로 가기', style=ButtonStyle())"
      ]
     },
     "metadata": {},
     "output_type": "display_data"
    },
    {
     "name": "stdout",
     "output_type": "stream",
     "text": [
      "데이터 업데이트를 하신 후, 입력하신 정보를 확인하시고 투자 시작을 눌러주세요.\n",
      "실시간 주가 데이터를 불러오는 중입니다... (약 5분~8분 소요)\n"
     ]
    },
    {
     "name": "stderr",
     "output_type": "stream",
     "text": [
      "350it [01:22,  4.27it/s]\n",
      "/Users/hongyeob/projects/RED/red/scraper/etf.py:15: FutureWarning: pandas.io.json.json_normalize is deprecated, use pandas.json_normalize instead\n",
      "  df = json_normalize(json_data[\"result\"][\"etfItemList\"])\n",
      "0it [00:00, ?it/s]"
     ]
    },
    {
     "name": "stdout",
     "output_type": "stream",
     "text": [
      "주식 데이터 스크래핑이 완료되었습니다.\n"
     ]
    },
    {
     "name": "stderr",
     "output_type": "stream",
     "text": [
      "206it [00:29,  7.88it/s]"
     ]
    }
   ],
   "source": [
    "RED().run()"
   ]
  },
  {
   "cell_type": "code",
   "execution_count": null,
   "metadata": {},
   "outputs": [],
   "source": []
  }
 ],
 "metadata": {
  "kernelspec": {
   "display_name": "Python 3",
   "language": "python",
   "name": "python3"
  },
  "language_info": {
   "codemirror_mode": {
    "name": "ipython",
    "version": 3
   },
   "file_extension": ".py",
   "mimetype": "text/x-python",
   "name": "python",
   "nbconvert_exporter": "python",
   "pygments_lexer": "ipython3",
   "version": "3.7.3"
  }
 },
 "nbformat": 4,
 "nbformat_minor": 2
}
